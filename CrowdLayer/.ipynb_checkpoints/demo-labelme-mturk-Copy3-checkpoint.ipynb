{
 "cells": [
  {
   "cell_type": "markdown",
   "metadata": {},
   "source": [
    "# Import required libraries"
   ]
  },
  {
   "cell_type": "code",
   "execution_count": 3,
   "metadata": {},
   "outputs": [],
   "source": [
    "import numpy as np\n",
    "import tensorflow as tf\n",
    "import matplotlib.cm as cm\n",
    "from matplotlib import pyplot as plt \n",
    "from keras.models import Sequential, Model\n",
    "from keras.layers import Activation, Dropout, Flatten, Dense, Input\n",
    "\n",
    "# packages for deep learning from crowds\n",
    "from crowd_layer.crowd_layers import CrowdsClassification, MaskedMultiCrossEntropy\n",
    "from crowd_layer.crowd_aggregators import CrowdsCategoricalAggregator\n",
    "\n",
    "# prevent tensorflow from allocating the entire GPU memory at once\n",
    "config = tf.ConfigProto()\n",
    "config.gpu_options.allow_growth=True\n",
    "sess = tf.Session(config=config)"
   ]
  },
  {
   "cell_type": "markdown",
   "metadata": {},
   "source": [
    "# Configuration parameters"
   ]
  },
  {
   "cell_type": "code",
   "execution_count": 2,
   "metadata": {
    "collapsed": true
   },
   "outputs": [],
   "source": [
    "NUM_RUNS = 30\n",
    "DATA_PATH = \"/home/fmpr/deep-crowds-datasets/LabelMe/prepared/\"\n",
    "N_CLASSES = 8\n",
    "BATCH_SIZE = 64\n",
    "N_EPOCHS = 50"
   ]
  },
  {
   "cell_type": "markdown",
   "metadata": {},
   "source": [
    "# Load data"
   ]
  },
  {
   "cell_type": "code",
   "execution_count": 3,
   "metadata": {
    "collapsed": true
   },
   "outputs": [],
   "source": [
    "def load_data(filename):\n",
    "    f = open(filename)\n",
    "    data = np.load(f)\n",
    "    f.close()\n",
    "    return data"
   ]
  },
  {
   "cell_type": "code",
   "execution_count": 4,
   "metadata": {},
   "outputs": [
    {
     "name": "stdout",
     "output_type": "stream",
     "text": [
      "\n",
      "Loading train data...\n",
      "(10000, 4, 4, 512)\n",
      "(10000,)\n",
      "(10000,)\n",
      "(10000,)\n",
      "\n",
      "Loading AMT data...\n",
      "(10000, 59)\n",
      "\n",
      "N_CLASSES: 8\n",
      "N_ANNOT: 59\n",
      "\n",
      "Loading test data...\n",
      "(1188, 4, 4, 512)\n",
      "(1188,)\n"
     ]
    }
   ],
   "source": [
    "print \"\\nLoading train data...\"\n",
    "\n",
    "# images processed by VGG16\n",
    "data_train_vgg16 = load_data(DATA_PATH+\"data_train_vgg16.npy\")\n",
    "print data_train_vgg16.shape\n",
    "\n",
    "# ground truth labels\n",
    "labels_train = load_data(DATA_PATH+\"labels_train.npy\")\n",
    "print labels_train.shape\n",
    "\n",
    "# labels obtained from majority voting\n",
    "labels_train_mv = load_data(DATA_PATH+\"labels_train_mv.npy\")\n",
    "print labels_train_mv.shape\n",
    "\n",
    "# labels obtained by using the approach by Dawid and Skene\n",
    "labels_train_ds = load_data(DATA_PATH+\"labels_train_DS.npy\")\n",
    "print labels_train_ds.shape\n",
    "\n",
    "# data from Amazon Mechanical Turk\n",
    "print \"\\nLoading AMT data...\"\n",
    "answers = load_data(DATA_PATH+\"answers.npy\")\n",
    "print answers.shape\n",
    "N_ANNOT = answers.shape[1]\n",
    "print \"\\nN_CLASSES:\", N_CLASSES\n",
    "print \"N_ANNOT:\", N_ANNOT\n",
    "\n",
    "# load test data\n",
    "print \"\\nLoading test data...\"\n",
    "\n",
    "# images processed by VGG16\n",
    "data_test_vgg16 = load_data(DATA_PATH+\"data_test_vgg16.npy\")\n",
    "print data_test_vgg16.shape\n",
    "\n",
    "# test labels\n",
    "labels_test = load_data(DATA_PATH+\"labels_test.npy\")\n",
    "print labels_test.shape"
   ]
  },
  {
   "cell_type": "markdown",
   "metadata": {},
   "source": [
    "# Convert data to one-hot encoding"
   ]
  },
  {
   "cell_type": "code",
   "execution_count": 5,
   "metadata": {
    "collapsed": true
   },
   "outputs": [],
   "source": [
    "def one_hot(target, n_classes):\n",
    "    targets = np.array([target]).reshape(-1)\n",
    "    one_hot_targets = np.eye(n_classes)[targets]\n",
    "    return one_hot_targets"
   ]
  },
  {
   "cell_type": "code",
   "execution_count": 6,
   "metadata": {},
   "outputs": [
    {
     "name": "stdout",
     "output_type": "stream",
     "text": [
      "\n",
      "Converting to one-hot encoding...\n",
      "(10000, 8)\n",
      "(10000, 8)\n",
      "(10000, 8)\n",
      "(1188, 8)\n"
     ]
    },
    {
     "data": {
      "text/plain": [
       "(10000, 8, 59)"
      ]
     },
     "execution_count": 6,
     "metadata": {},
     "output_type": "execute_result"
    }
   ],
   "source": [
    "print \"\\nConverting to one-hot encoding...\"\n",
    "labels_train_bin = one_hot(labels_train, N_CLASSES)\n",
    "print labels_train_bin.shape\n",
    "labels_train_mv_bin = one_hot(labels_train_mv, N_CLASSES)\n",
    "print labels_train_mv_bin.shape\n",
    "labels_train_ds_bin = one_hot(labels_train_ds, N_CLASSES)\n",
    "print labels_train_ds_bin.shape\n",
    "labels_test_bin = one_hot(labels_test, N_CLASSES)\n",
    "print labels_test_bin.shape\n",
    "\n",
    "answers_bin_missings = []\n",
    "for i in range(len(answers)):\n",
    "    row = []\n",
    "    for r in range(N_ANNOT):\n",
    "        if answers[i,r] == -1:\n",
    "            row.append(-1 * np.ones(N_CLASSES))\n",
    "        else:\n",
    "            row.append(one_hot(answers[i,r], N_CLASSES)[0,:])\n",
    "    answers_bin_missings.append(row)\n",
    "answers_bin_missings = np.array(answers_bin_missings).swapaxes(1,2)\n",
    "answers_bin_missings.shape"
   ]
  },
  {
   "cell_type": "markdown",
   "metadata": {},
   "source": [
    "# Define the base deep learning model\n",
    "\n",
    "Here we shall use features representation produced by the VGG16 network as the input. Our base model is then simply composed by one densely-connected layer with 128 hidden units and an output dense layer. We use 50% dropout between the two dense layers."
   ]
  },
  {
   "cell_type": "code",
   "execution_count": 7,
   "metadata": {
    "collapsed": true
   },
   "outputs": [],
   "source": [
    "def build_base_model():\n",
    "    base_model = Sequential()\n",
    "    base_model.add(Flatten(input_shape=data_train_vgg16.shape[1:]))\n",
    "    base_model.add(Dense(128, activation='relu'))\n",
    "    base_model.add(Dropout(0.5))\n",
    "    base_model.add(Dense(N_CLASSES))\n",
    "    base_model.add(Activation(\"softmax\"))\n",
    "    base_model.compile(optimizer='adam', loss='categorical_crossentropy')\n",
    "\n",
    "    return base_model"
   ]
  },
  {
   "cell_type": "markdown",
   "metadata": {},
   "source": [
    "# Auxiliary function for evaluating the models"
   ]
  },
  {
   "cell_type": "code",
   "execution_count": 8,
   "metadata": {
    "collapsed": true
   },
   "outputs": [],
   "source": [
    "def eval_model(model, test_data, test_labels):\n",
    "    # testset accuracy\n",
    "    preds_test = model.predict(test_data)\n",
    "    preds_test_num = np.argmax(preds_test, axis=1)\n",
    "    accuracy_test = 1.0*np.sum(preds_test_num == test_labels) / len(test_labels)\n",
    "\n",
    "    return accuracy_test"
   ]
  },
  {
   "cell_type": "markdown",
   "metadata": {},
   "source": [
    "# Train the model on the true labels (ground truth) and evaluate on testset"
   ]
  },
  {
   "cell_type": "code",
   "execution_count": 9,
   "metadata": {
    "scrolled": true
   },
   "outputs": [
    {
     "name": "stdout",
     "output_type": "stream",
     "text": [
      "Epoch 1/50\n",
      "4s - loss: 0.5342\n",
      "Epoch 2/50\n",
      "2s - loss: 0.1881\n",
      "Epoch 3/50\n",
      "2s - loss: 0.1183\n",
      "Epoch 4/50\n",
      "2s - loss: 0.0865\n",
      "Epoch 5/50\n",
      "2s - loss: 0.0690\n",
      "Epoch 6/50\n",
      "2s - loss: 0.0601\n",
      "Epoch 7/50\n",
      "2s - loss: 0.0513\n",
      "Epoch 8/50\n",
      "2s - loss: 0.0416\n",
      "Epoch 9/50\n",
      "2s - loss: 0.0372\n",
      "Epoch 10/50\n",
      "2s - loss: 0.0348\n",
      "Epoch 11/50\n",
      "2s - loss: 0.0284\n",
      "Epoch 12/50\n",
      "2s - loss: 0.0282\n",
      "Epoch 13/50\n",
      "2s - loss: 0.0248\n",
      "Epoch 14/50\n",
      "2s - loss: 0.0328\n",
      "Epoch 15/50\n",
      "2s - loss: 0.0310\n",
      "Epoch 16/50\n",
      "2s - loss: 0.0318\n",
      "Epoch 17/50\n",
      "2s - loss: 0.0272\n",
      "Epoch 18/50\n",
      "2s - loss: 0.0278\n",
      "Epoch 19/50\n",
      "2s - loss: 0.0252\n",
      "Epoch 20/50\n",
      "2s - loss: 0.0265\n",
      "Epoch 21/50\n",
      "2s - loss: 0.0282\n",
      "Epoch 22/50\n",
      "2s - loss: 0.0402\n",
      "Epoch 23/50\n",
      "2s - loss: 0.0427\n",
      "Epoch 24/50\n",
      "2s - loss: 0.0276\n",
      "Epoch 25/50\n",
      "2s - loss: 0.0163\n",
      "Epoch 26/50\n",
      "2s - loss: 0.0219\n",
      "Epoch 27/50\n",
      "2s - loss: 0.0308\n",
      "Epoch 28/50\n",
      "2s - loss: 0.0295\n",
      "Epoch 29/50\n",
      "2s - loss: 0.0269\n",
      "Epoch 30/50\n",
      "2s - loss: 0.0206\n",
      "Epoch 31/50\n",
      "2s - loss: 0.0375\n",
      "Epoch 32/50\n",
      "2s - loss: 0.0250\n",
      "Epoch 33/50\n",
      "2s - loss: 0.0168\n",
      "Epoch 34/50\n",
      "2s - loss: 0.0208\n",
      "Epoch 35/50\n",
      "2s - loss: 0.0235\n",
      "Epoch 36/50\n",
      "2s - loss: 0.0245\n",
      "Epoch 37/50\n",
      "1s - loss: 0.0166\n",
      "Epoch 38/50\n",
      "1s - loss: 0.0253\n",
      "Epoch 39/50\n",
      "1s - loss: 0.0203\n",
      "Epoch 40/50\n",
      "1s - loss: 0.0209\n",
      "Epoch 41/50\n",
      "1s - loss: 0.0150\n",
      "Epoch 42/50\n",
      "1s - loss: 0.0256\n",
      "Epoch 43/50\n",
      "1s - loss: 0.0142\n",
      "Epoch 44/50\n",
      "2s - loss: 0.0173\n",
      "Epoch 45/50\n",
      "2s - loss: 0.0197\n",
      "Epoch 46/50\n",
      "2s - loss: 0.0198\n",
      "Epoch 47/50\n",
      "2s - loss: 0.0279\n",
      "Epoch 48/50\n",
      "2s - loss: 0.0224\n",
      "Epoch 49/50\n",
      "2s - loss: 0.0145\n",
      "Epoch 50/50\n",
      "2s - loss: 0.0199\n"
     ]
    },
    {
     "data": {
      "text/plain": [
       "<keras.callbacks.History at 0x7f4364468590>"
      ]
     },
     "execution_count": 9,
     "metadata": {},
     "output_type": "execute_result"
    }
   ],
   "source": [
    "model = build_base_model()\n",
    "model.fit(data_train_vgg16, labels_train_bin, epochs=N_EPOCHS, shuffle=True, batch_size=BATCH_SIZE, verbose=2)"
   ]
  },
  {
   "cell_type": "code",
   "execution_count": 10,
   "metadata": {},
   "outputs": [
    {
     "name": "stdout",
     "output_type": "stream",
     "text": [
      "Accuracy: Test: 0.894\n"
     ]
    }
   ],
   "source": [
    "accuracy_test = eval_model(model, data_test_vgg16, labels_test)\n",
    "print \"Accuracy: Test: %.3f\" % (accuracy_test,) "
   ]
  },
  {
   "cell_type": "markdown",
   "metadata": {},
   "source": [
    "# Train the model on the output of majority voting and evaluate on testset"
   ]
  },
  {
   "cell_type": "code",
   "execution_count": 11,
   "metadata": {
    "scrolled": true
   },
   "outputs": [
    {
     "name": "stdout",
     "output_type": "stream",
     "text": [
      "Epoch 1/50\n",
      "2s - loss: 0.9205\n",
      "Epoch 2/50\n",
      "2s - loss: 0.5568\n",
      "Epoch 3/50\n",
      "2s - loss: 0.4011\n",
      "Epoch 4/50\n",
      "2s - loss: 0.3017\n",
      "Epoch 5/50\n",
      "2s - loss: 0.2439\n",
      "Epoch 6/50\n",
      "2s - loss: 0.1962\n",
      "Epoch 7/50\n",
      "2s - loss: 0.1803\n",
      "Epoch 8/50\n",
      "2s - loss: 0.1430\n",
      "Epoch 9/50\n",
      "2s - loss: 0.1260\n",
      "Epoch 10/50\n",
      "2s - loss: 0.1221\n",
      "Epoch 11/50\n",
      "2s - loss: 0.1030\n",
      "Epoch 12/50\n",
      "2s - loss: 0.0987\n",
      "Epoch 13/50\n",
      "2s - loss: 0.0838\n",
      "Epoch 14/50\n",
      "2s - loss: 0.0854\n",
      "Epoch 15/50\n",
      "2s - loss: 0.0921\n",
      "Epoch 16/50\n",
      "2s - loss: 0.0721\n",
      "Epoch 17/50\n",
      "2s - loss: 0.0765\n",
      "Epoch 18/50\n",
      "2s - loss: 0.0751\n",
      "Epoch 19/50\n",
      "2s - loss: 0.0583\n",
      "Epoch 20/50\n",
      "2s - loss: 0.0600\n",
      "Epoch 21/50\n",
      "2s - loss: 0.0631\n",
      "Epoch 22/50\n",
      "2s - loss: 0.0647\n",
      "Epoch 23/50\n",
      "2s - loss: 0.0787\n",
      "Epoch 24/50\n",
      "2s - loss: 0.0695\n",
      "Epoch 25/50\n",
      "2s - loss: 0.0647\n",
      "Epoch 26/50\n",
      "2s - loss: 0.0603\n",
      "Epoch 27/50\n",
      "2s - loss: 0.0577\n",
      "Epoch 28/50\n",
      "2s - loss: 0.0582\n",
      "Epoch 29/50\n",
      "2s - loss: 0.0636\n",
      "Epoch 30/50\n",
      "2s - loss: 0.0789\n",
      "Epoch 31/50\n",
      "2s - loss: 0.0697\n",
      "Epoch 32/50\n",
      "2s - loss: 0.0571\n",
      "Epoch 33/50\n",
      "2s - loss: 0.0588\n",
      "Epoch 34/50\n",
      "2s - loss: 0.0508\n",
      "Epoch 35/50\n",
      "2s - loss: 0.0466\n",
      "Epoch 36/50\n",
      "2s - loss: 0.0539\n",
      "Epoch 37/50\n",
      "2s - loss: 0.0687\n",
      "Epoch 38/50\n",
      "2s - loss: 0.0610\n",
      "Epoch 39/50\n",
      "2s - loss: 0.0491\n",
      "Epoch 40/50\n",
      "2s - loss: 0.0390\n",
      "Epoch 41/50\n",
      "2s - loss: 0.0483\n",
      "Epoch 42/50\n",
      "2s - loss: 0.0429\n",
      "Epoch 43/50\n",
      "2s - loss: 0.0509\n",
      "Epoch 44/50\n",
      "2s - loss: 0.0548\n",
      "Epoch 45/50\n",
      "2s - loss: 0.0542\n",
      "Epoch 46/50\n",
      "2s - loss: 0.0441\n",
      "Epoch 47/50\n",
      "2s - loss: 0.0457\n",
      "Epoch 48/50\n",
      "2s - loss: 0.0566\n",
      "Epoch 49/50\n",
      "2s - loss: 0.0520\n",
      "Epoch 50/50\n",
      "2s - loss: 0.0447\n"
     ]
    },
    {
     "data": {
      "text/plain": [
       "<keras.callbacks.History at 0x7f4364093190>"
      ]
     },
     "execution_count": 11,
     "metadata": {},
     "output_type": "execute_result"
    }
   ],
   "source": [
    "model = build_base_model()\n",
    "model.fit(data_train_vgg16, labels_train_mv_bin, epochs=N_EPOCHS, shuffle=True, batch_size=BATCH_SIZE, verbose=2)"
   ]
  },
  {
   "cell_type": "code",
   "execution_count": 12,
   "metadata": {},
   "outputs": [
    {
     "name": "stdout",
     "output_type": "stream",
     "text": [
      "Accuracy: Test: 0.764\n"
     ]
    }
   ],
   "source": [
    "accuracy_test = eval_model(model, data_test_vgg16, labels_test)\n",
    "print \"Accuracy: Test: %.3f\" % (accuracy_test,) "
   ]
  },
  {
   "cell_type": "markdown",
   "metadata": {},
   "source": [
    "# Train the model on the output of Dawid & Skene [1] and evaluate on testset\n",
    "\n",
    "[1] Dawid, A.P. and Skene, A.M., 1979. Maximum likelihood estimation of observer error-rates using the EM algorithm. Applied statistics, pp.20-28."
   ]
  },
  {
   "cell_type": "code",
   "execution_count": 13,
   "metadata": {
    "scrolled": true
   },
   "outputs": [
    {
     "name": "stdout",
     "output_type": "stream",
     "text": [
      "Epoch 1/50\n",
      "2s - loss: 0.8458\n",
      "Epoch 2/50\n",
      "2s - loss: 0.4798\n",
      "Epoch 3/50\n",
      "2s - loss: 0.3380\n",
      "Epoch 4/50\n",
      "2s - loss: 0.2493\n",
      "Epoch 5/50\n",
      "2s - loss: 0.1868\n",
      "Epoch 6/50\n",
      "2s - loss: 0.1522\n",
      "Epoch 7/50\n",
      "2s - loss: 0.1340\n",
      "Epoch 8/50\n",
      "2s - loss: 0.1188\n",
      "Epoch 9/50\n",
      "2s - loss: 0.0961\n",
      "Epoch 10/50\n",
      "2s - loss: 0.0887\n",
      "Epoch 11/50\n",
      "2s - loss: 0.0785\n",
      "Epoch 12/50\n",
      "2s - loss: 0.0824\n",
      "Epoch 13/50\n",
      "2s - loss: 0.0673\n",
      "Epoch 14/50\n",
      "2s - loss: 0.0663\n",
      "Epoch 15/50\n",
      "2s - loss: 0.0636\n",
      "Epoch 16/50\n",
      "1s - loss: 0.0585\n",
      "Epoch 17/50\n",
      "1s - loss: 0.0538\n",
      "Epoch 18/50\n",
      "1s - loss: 0.0523\n",
      "Epoch 19/50\n",
      "1s - loss: 0.0598\n",
      "Epoch 20/50\n",
      "1s - loss: 0.0744\n",
      "Epoch 21/50\n",
      "1s - loss: 0.0819\n",
      "Epoch 22/50\n",
      "1s - loss: 0.0631\n",
      "Epoch 23/50\n",
      "1s - loss: 0.0589\n",
      "Epoch 24/50\n",
      "1s - loss: 0.0431\n",
      "Epoch 25/50\n",
      "1s - loss: 0.0387\n",
      "Epoch 26/50\n",
      "1s - loss: 0.0579\n",
      "Epoch 27/50\n",
      "1s - loss: 0.0660\n",
      "Epoch 28/50\n",
      "1s - loss: 0.0660\n",
      "Epoch 29/50\n",
      "1s - loss: 0.0587\n",
      "Epoch 30/50\n",
      "1s - loss: 0.0476\n",
      "Epoch 31/50\n",
      "1s - loss: 0.0514\n",
      "Epoch 32/50\n",
      "1s - loss: 0.0492\n",
      "Epoch 33/50\n",
      "1s - loss: 0.0411\n",
      "Epoch 34/50\n",
      "1s - loss: 0.0589\n",
      "Epoch 35/50\n",
      "1s - loss: 0.0527\n",
      "Epoch 36/50\n",
      "1s - loss: 0.0475\n",
      "Epoch 37/50\n",
      "1s - loss: 0.0565\n",
      "Epoch 38/50\n",
      "1s - loss: 0.0478\n",
      "Epoch 39/50\n",
      "1s - loss: 0.0440\n",
      "Epoch 40/50\n",
      "1s - loss: 0.0508\n",
      "Epoch 41/50\n",
      "1s - loss: 0.0353\n",
      "Epoch 42/50\n",
      "1s - loss: 0.0275\n",
      "Epoch 43/50\n",
      "1s - loss: 0.0406\n",
      "Epoch 44/50\n",
      "1s - loss: 0.0412\n",
      "Epoch 45/50\n",
      "1s - loss: 0.0474\n",
      "Epoch 46/50\n",
      "1s - loss: 0.0429\n",
      "Epoch 47/50\n",
      "1s - loss: 0.0483\n",
      "Epoch 48/50\n",
      "1s - loss: 0.0440\n",
      "Epoch 49/50\n",
      "1s - loss: 0.0479\n",
      "Epoch 50/50\n",
      "1s - loss: 0.0477\n"
     ]
    },
    {
     "data": {
      "text/plain": [
       "<keras.callbacks.History at 0x7f433874dcd0>"
      ]
     },
     "execution_count": 13,
     "metadata": {},
     "output_type": "execute_result"
    }
   ],
   "source": [
    "model = build_base_model()\n",
    "model.fit(data_train_vgg16, labels_train_ds_bin, epochs=N_EPOCHS, shuffle=True, batch_size=BATCH_SIZE, verbose=2)"
   ]
  },
  {
   "cell_type": "code",
   "execution_count": 14,
   "metadata": {},
   "outputs": [
    {
     "name": "stdout",
     "output_type": "stream",
     "text": [
      "Accuracy: Test: 0.810\n"
     ]
    }
   ],
   "source": [
    "accuracy_test = eval_model(model, data_test_vgg16, labels_test)\n",
    "print \"Accuracy: Test: %.3f\" % (accuracy_test,) "
   ]
  },
  {
   "cell_type": "markdown",
   "metadata": {},
   "source": [
    "# Train the model using EM approach and evaluate on testset\n",
    "\n",
    "The CrowdsCategoricalAggregator class acts as a wrapper for the base model that computed the EM steps."
   ]
  },
  {
   "cell_type": "code",
   "execution_count": 15,
   "metadata": {
    "scrolled": true
   },
   "outputs": [
    {
     "name": "stdout",
     "output_type": "stream",
     "text": [
      "Epoch: 1\n",
      "E-step\n",
      "Adjusted ground truth accuracy: 0.769\n",
      "M-step\n",
      "loss: 0.877457176781\n",
      "Epoch: 2\n",
      "E-step\n",
      "Adjusted ground truth accuracy: 0.8253\n",
      "M-step\n",
      "loss: 0.0854753702641\n",
      "Epoch: 3\n",
      "E-step\n",
      "Adjusted ground truth accuracy: 0.8393\n",
      "M-step\n",
      "loss: 0.0791980513334\n",
      "Epoch: 4\n",
      "E-step\n",
      "Adjusted ground truth accuracy: 0.8513\n",
      "M-step\n",
      "loss: 0.0676235478163\n",
      "Epoch: 5\n",
      "E-step\n",
      "Adjusted ground truth accuracy: 0.8522\n",
      "M-step\n",
      "loss: 0.0555270703912\n",
      "Epoch: 6\n",
      "E-step\n",
      "Adjusted ground truth accuracy: 0.857\n",
      "M-step\n",
      "loss: 0.0470911498308\n",
      "Epoch: 7\n",
      "E-step\n",
      "Adjusted ground truth accuracy: 0.8546\n",
      "M-step\n",
      "loss: 0.0452059624299\n",
      "Epoch: 8\n",
      "E-step\n",
      "Adjusted ground truth accuracy: 0.8583\n",
      "M-step\n",
      "loss: 0.0426780314028\n",
      "Epoch: 9\n",
      "E-step\n",
      "Adjusted ground truth accuracy: 0.861\n",
      "M-step\n",
      "loss: 0.0408594501197\n",
      "Epoch: 10\n",
      "E-step\n",
      "Adjusted ground truth accuracy: 0.8573\n",
      "M-step\n",
      "loss: 0.0352377535962\n",
      "Epoch: 11\n",
      "E-step\n",
      "Adjusted ground truth accuracy: 0.8566\n",
      "M-step\n",
      "loss: 0.0294001247115\n",
      "Epoch: 12\n",
      "E-step\n",
      "Adjusted ground truth accuracy: 0.8612\n",
      "M-step\n",
      "loss: 0.0361833483577\n",
      "Epoch: 13\n",
      "E-step\n",
      "Adjusted ground truth accuracy: 0.8655\n",
      "M-step\n",
      "loss: 0.0414329620779\n",
      "Epoch: 14\n",
      "E-step\n",
      "Adjusted ground truth accuracy: 0.8594\n",
      "M-step\n",
      "loss: 0.0332117304206\n",
      "Epoch: 15\n",
      "E-step\n",
      "Adjusted ground truth accuracy: 0.8533\n",
      "M-step\n",
      "loss: 0.03455724549\n",
      "Epoch: 16\n",
      "E-step\n",
      "Adjusted ground truth accuracy: 0.8601\n",
      "M-step\n",
      "loss: 0.0296688798323\n",
      "Epoch: 17\n",
      "E-step\n",
      "Adjusted ground truth accuracy: 0.857\n",
      "M-step\n",
      "loss: 0.0284048801526\n",
      "Epoch: 18\n",
      "E-step\n",
      "Adjusted ground truth accuracy: 0.8584\n",
      "M-step\n",
      "loss: 0.0322520250261\n",
      "Epoch: 19\n",
      "E-step\n",
      "Adjusted ground truth accuracy: 0.8555\n",
      "M-step\n",
      "loss: 0.0270621559709\n",
      "Epoch: 20\n",
      "E-step\n",
      "Adjusted ground truth accuracy: 0.862\n",
      "M-step\n",
      "loss: 0.0317180077076\n",
      "Epoch: 21\n",
      "E-step\n",
      "Adjusted ground truth accuracy: 0.8651\n",
      "M-step\n",
      "loss: 0.028897128886\n",
      "Epoch: 22\n",
      "E-step\n",
      "Adjusted ground truth accuracy: 0.8583\n",
      "M-step\n",
      "loss: 0.034658860445\n",
      "Epoch: 23\n",
      "E-step\n",
      "Adjusted ground truth accuracy: 0.8589\n",
      "M-step\n",
      "loss: 0.028016231975\n",
      "Epoch: 24\n",
      "E-step\n",
      "Adjusted ground truth accuracy: 0.8576\n",
      "M-step\n",
      "loss: 0.0281648027867\n",
      "Epoch: 25\n",
      "E-step\n",
      "Adjusted ground truth accuracy: 0.8601\n",
      "M-step\n",
      "loss: 0.0258844633728\n",
      "Epoch: 26\n",
      "E-step\n",
      "Adjusted ground truth accuracy: 0.8614\n",
      "M-step\n",
      "loss: 0.0240096743122\n",
      "Epoch: 27\n",
      "E-step\n",
      "Adjusted ground truth accuracy: 0.8613\n",
      "M-step\n",
      "loss: 0.0291703860909\n",
      "Epoch: 28\n",
      "E-step\n",
      "Adjusted ground truth accuracy: 0.8623\n",
      "M-step\n",
      "loss: 0.0650904430687\n",
      "Epoch: 29\n",
      "E-step\n",
      "Adjusted ground truth accuracy: 0.8648\n",
      "M-step\n",
      "loss: 0.028929260157\n",
      "Epoch: 30\n",
      "E-step\n",
      "Adjusted ground truth accuracy: 0.8574\n",
      "M-step\n",
      "loss: 0.0344959214807\n",
      "Epoch: 31\n",
      "E-step\n",
      "Adjusted ground truth accuracy: 0.8599\n",
      "M-step\n",
      "loss: 0.0261150682583\n",
      "Epoch: 32\n",
      "E-step\n",
      "Adjusted ground truth accuracy: 0.8594\n",
      "M-step\n",
      "loss: 0.0278985477544\n",
      "Epoch: 33\n",
      "E-step\n",
      "Adjusted ground truth accuracy: 0.8587\n",
      "M-step\n",
      "loss: 0.0292098543227\n",
      "Epoch: 34\n",
      "E-step\n",
      "Adjusted ground truth accuracy: 0.8607\n",
      "M-step\n",
      "loss: 0.0178036607893\n",
      "Epoch: 35\n",
      "E-step\n",
      "Adjusted ground truth accuracy: 0.8612\n",
      "M-step\n",
      "loss: 0.0192289047701\n",
      "Epoch: 36\n",
      "E-step\n",
      "Adjusted ground truth accuracy: 0.8588\n",
      "M-step\n",
      "loss: 0.0164575797172\n",
      "Epoch: 37\n",
      "E-step\n",
      "Adjusted ground truth accuracy: 0.8573\n",
      "M-step\n",
      "loss: 0.0220035188884\n",
      "Epoch: 38\n",
      "E-step\n",
      "Adjusted ground truth accuracy: 0.8613\n",
      "M-step\n",
      "loss: 0.0245085631795\n",
      "Epoch: 39\n",
      "E-step\n",
      "Adjusted ground truth accuracy: 0.8599\n",
      "M-step\n",
      "loss: 0.0203994950704\n",
      "Epoch: 40\n",
      "E-step\n",
      "Adjusted ground truth accuracy: 0.8632\n",
      "M-step\n",
      "loss: 0.0260030232238\n",
      "Epoch: 41\n",
      "E-step\n",
      "Adjusted ground truth accuracy: 0.8649\n",
      "M-step\n",
      "loss: 0.028688416563\n",
      "Epoch: 42\n",
      "E-step\n",
      "Adjusted ground truth accuracy: 0.8614\n",
      "M-step\n",
      "loss: 0.0312557222426\n",
      "Epoch: 43\n",
      "E-step\n",
      "Adjusted ground truth accuracy: 0.8627\n",
      "M-step\n",
      "loss: 0.0195610111383\n",
      "Epoch: 44\n",
      "E-step\n",
      "Adjusted ground truth accuracy: 0.862\n",
      "M-step\n",
      "loss: 0.0177620679211\n",
      "Epoch: 45\n",
      "E-step\n",
      "Adjusted ground truth accuracy: 0.8608\n",
      "M-step\n",
      "loss: 0.0219550575644\n",
      "Epoch: 46\n",
      "E-step\n",
      "Adjusted ground truth accuracy: 0.8635\n",
      "M-step\n",
      "loss: 0.0224569492172\n",
      "Epoch: 47\n",
      "E-step\n",
      "Adjusted ground truth accuracy: 0.8612\n",
      "M-step\n",
      "loss: 0.0213679099441\n",
      "Epoch: 48\n",
      "E-step\n",
      "Adjusted ground truth accuracy: 0.8591\n",
      "M-step\n",
      "loss: 0.0246038372509\n",
      "Epoch: 49\n",
      "E-step\n",
      "Adjusted ground truth accuracy: 0.8625\n",
      "M-step\n",
      "loss: 0.0186435448727\n",
      "Epoch: 50\n",
      "E-step\n",
      "Adjusted ground truth accuracy: 0.8593\n",
      "M-step\n",
      "loss: 0.0178302975755\n"
     ]
    }
   ],
   "source": [
    "model = build_base_model()\n",
    "crowds_agg = CrowdsCategoricalAggregator(model, data_train_vgg16, answers, batch_size=BATCH_SIZE)\n",
    "for epoch in xrange(N_EPOCHS):\n",
    "    print \"Epoch:\", epoch+1\n",
    "    \n",
    "    # E-step\n",
    "    ground_truth_est = crowds_agg.e_step()\n",
    "    print \"Adjusted ground truth accuracy:\", 1.0*np.sum(np.argmax(ground_truth_est, axis=1) == labels_train) / len(labels_train)\n",
    "    \n",
    "    # M-step\n",
    "    model, pi = crowds_agg.m_step()"
   ]
  },
  {
   "cell_type": "code",
   "execution_count": 16,
   "metadata": {},
   "outputs": [
    {
     "name": "stdout",
     "output_type": "stream",
     "text": [
      "Accuracy: Test: 0.827\n"
     ]
    }
   ],
   "source": [
    "accuracy_test = eval_model(model, data_test_vgg16, labels_test)\n",
    "print \"Accuracy: Test: %.3f\" % (accuracy_test,) "
   ]
  },
  {
   "cell_type": "markdown",
   "metadata": {},
   "source": [
    "# Train the model using the approach of Guan et al. and evaluate on testset"
   ]
  },
  {
   "cell_type": "code",
   "execution_count": 17,
   "metadata": {},
   "outputs": [],
   "source": [
    "from keras import backend as K\n",
    "from keras.engine.topology import Layer\n",
    "import keras \n",
    "import tensorflow as tf\n",
    "\n",
    "class CrowdsGuan(Layer):\n",
    "\n",
    "    def __init__(self, output_dim, num_annotators, **kwargs):\n",
    "        self.output_dim = output_dim\n",
    "        self.num_annotators = num_annotators\n",
    "        super(CrowdsGuan, self).__init__(**kwargs)\n",
    "\n",
    "    def build(self, input_shape):\n",
    "        print input_shape[-1]\n",
    "        self.kernel = []\n",
    "        for r in xrange(self.num_annotators):\n",
    "            self.kernel.append(self.add_weight(shape=(input_shape[-1], self.output_dim),\n",
    "                                            initializer=\"glorot_uniform\", \n",
    "                                            trainable=True))\n",
    "        self.kernel.append(self.add_weight(shape=(self.output_dim, self.num_annotators),\n",
    "                                        initializer=keras.initializers.Zeros(),\n",
    "                                        trainable=True))\n",
    "\n",
    "        super(CrowdsGuan, self).build(input_shape)  # Be sure to call this somewhere!\n",
    "\n",
    "    def call(self, x):\n",
    "        out = []\n",
    "        for r in range(self.num_annotators):\n",
    "            out.append(K.dot(x, self.kernel[r]) + self.kernel[-1][:,r])\n",
    "            #out.append(K.dot(x, self.kernel[r]))\n",
    "        res = tf.stack(out)\n",
    "        res = tf.nn.softmax(res)\n",
    "        print res\n",
    "        res = tf.transpose(res, [1,2,0])\n",
    "        print res\n",
    "        \n",
    "        return res\n",
    "\n",
    "    def compute_output_shape(self, input_shape):\n",
    "        return (input_shape[0], self.output_dim, self.num_annotators)\n"
   ]
  },
  {
   "cell_type": "code",
   "execution_count": 18,
   "metadata": {
    "scrolled": true
   },
   "outputs": [
    {
     "name": "stdout",
     "output_type": "stream",
     "text": [
      "128\n",
      "Tensor(\"crowds_guan_1/Reshape_1:0\", shape=(59, ?, 8), dtype=float32)\n",
      "Tensor(\"crowds_guan_1/transpose:0\", shape=(?, 8, 59), dtype=float32)\n",
      "_________________________________________________________________\n",
      "Layer (type)                 Output Shape              Param #   \n",
      "=================================================================\n",
      "flatten_5 (Flatten)          (None, 8192)              0         \n",
      "_________________________________________________________________\n",
      "dense_9 (Dense)              (None, 128)               1048704   \n",
      "_________________________________________________________________\n",
      "dropout_5 (Dropout)          (None, 128)               0         \n",
      "_________________________________________________________________\n",
      "crowds_guan_1 (CrowdsGuan)   (None, 8, 59)             60888     \n",
      "=================================================================\n",
      "Total params: 1,109,592\n",
      "Trainable params: 1,109,592\n",
      "Non-trainable params: 0\n",
      "_________________________________________________________________\n",
      "None\n",
      "(10000, 8, 59)\n",
      "Epoch 1/100\n",
      "5s - loss: 0.0836\n",
      "Epoch 2/100\n",
      "4s - loss: 0.0750\n",
      "Epoch 3/100\n",
      "4s - loss: 0.0710\n",
      "Epoch 4/100\n",
      "4s - loss: 0.0686\n",
      "Epoch 5/100\n",
      "4s - loss: 0.0667\n",
      "Epoch 6/100\n",
      "4s - loss: 0.0652\n",
      "Epoch 7/100\n",
      "4s - loss: 0.0638\n",
      "Epoch 8/100\n",
      "4s - loss: 0.0629\n",
      "Epoch 9/100\n",
      "4s - loss: 0.0621\n",
      "Epoch 10/100\n",
      "4s - loss: 0.0616\n",
      "Epoch 11/100\n",
      "4s - loss: 0.0610\n",
      "Epoch 12/100\n",
      "4s - loss: 0.0608\n",
      "Epoch 13/100\n",
      "4s - loss: 0.0603\n",
      "Epoch 14/100\n",
      "4s - loss: 0.0599\n",
      "Epoch 15/100\n",
      "4s - loss: 0.0597\n",
      "Epoch 16/100\n",
      "4s - loss: 0.0594\n",
      "Epoch 17/100\n",
      "4s - loss: 0.0592\n",
      "Epoch 18/100\n",
      "4s - loss: 0.0588\n",
      "Epoch 19/100\n",
      "4s - loss: 0.0588\n",
      "Epoch 20/100\n",
      "4s - loss: 0.0586\n",
      "Epoch 21/100\n",
      "4s - loss: 0.0585\n",
      "Epoch 22/100\n",
      "4s - loss: 0.0583\n",
      "Epoch 23/100\n",
      "4s - loss: 0.0582\n",
      "Epoch 24/100\n",
      "4s - loss: 0.0582\n",
      "Epoch 25/100\n",
      "4s - loss: 0.0580\n",
      "Epoch 26/100\n",
      "4s - loss: 0.0581\n",
      "Epoch 27/100\n",
      "4s - loss: 0.0579\n",
      "Epoch 28/100\n",
      "4s - loss: 0.0577\n",
      "Epoch 29/100\n",
      "4s - loss: 0.0577\n",
      "Epoch 30/100\n",
      "4s - loss: 0.0576\n",
      "Epoch 31/100\n",
      "4s - loss: 0.0575\n",
      "Epoch 32/100\n",
      "4s - loss: 0.0575\n",
      "Epoch 33/100\n",
      "4s - loss: 0.0575\n",
      "Epoch 34/100\n",
      "4s - loss: 0.0574\n",
      "Epoch 35/100\n",
      "4s - loss: 0.0573\n",
      "Epoch 36/100\n",
      "4s - loss: 0.0572\n",
      "Epoch 37/100\n",
      "4s - loss: 0.0572\n",
      "Epoch 38/100\n",
      "4s - loss: 0.0572\n",
      "Epoch 39/100\n",
      "4s - loss: 0.0572\n",
      "Epoch 40/100\n",
      "4s - loss: 0.0571\n",
      "Epoch 41/100\n",
      "4s - loss: 0.0571\n",
      "Epoch 42/100\n",
      "3s - loss: 0.0572\n",
      "Epoch 43/100\n",
      "4s - loss: 0.0570\n",
      "Epoch 44/100\n",
      "4s - loss: 0.0571\n",
      "Epoch 45/100\n",
      "4s - loss: 0.0569\n",
      "Epoch 46/100\n",
      "4s - loss: 0.0569\n",
      "Epoch 47/100\n",
      "4s - loss: 0.0569\n",
      "Epoch 48/100\n",
      "4s - loss: 0.0569\n",
      "Epoch 49/100\n",
      "4s - loss: 0.0569\n",
      "Epoch 50/100\n",
      "4s - loss: 0.0568\n",
      "Epoch 51/100\n",
      "4s - loss: 0.0569\n",
      "Epoch 52/100\n",
      "4s - loss: 0.0568\n",
      "Epoch 53/100\n",
      "4s - loss: 0.0568\n",
      "Epoch 54/100\n",
      "4s - loss: 0.0568\n",
      "Epoch 55/100\n",
      "4s - loss: 0.0567\n",
      "Epoch 56/100\n",
      "4s - loss: 0.0567\n",
      "Epoch 57/100\n",
      "4s - loss: 0.0568\n",
      "Epoch 58/100\n",
      "4s - loss: 0.0567\n",
      "Epoch 59/100\n",
      "4s - loss: 0.0567\n",
      "Epoch 60/100\n",
      "4s - loss: 0.0568\n",
      "Epoch 61/100\n",
      "4s - loss: 0.0567\n",
      "Epoch 62/100\n",
      "4s - loss: 0.0566\n",
      "Epoch 63/100\n",
      "4s - loss: 0.0567\n",
      "Epoch 64/100\n",
      "4s - loss: 0.0566\n",
      "Epoch 65/100\n",
      "4s - loss: 0.0566\n",
      "Epoch 66/100\n",
      "4s - loss: 0.0566\n",
      "Epoch 67/100\n",
      "4s - loss: 0.0566\n",
      "Epoch 68/100\n",
      "4s - loss: 0.0566\n",
      "Epoch 69/100\n",
      "4s - loss: 0.0566\n",
      "Epoch 70/100\n",
      "4s - loss: 0.0566\n",
      "Epoch 71/100\n",
      "4s - loss: 0.0565\n",
      "Epoch 72/100\n",
      "4s - loss: 0.0564\n",
      "Epoch 73/100\n",
      "4s - loss: 0.0565\n",
      "Epoch 74/100\n",
      "4s - loss: 0.0565\n",
      "Epoch 75/100\n",
      "4s - loss: 0.0565\n",
      "Epoch 76/100\n",
      "4s - loss: 0.0564\n",
      "Epoch 77/100\n",
      "4s - loss: 0.0563\n",
      "Epoch 78/100\n",
      "4s - loss: 0.0563\n",
      "Epoch 79/100\n",
      "4s - loss: 0.0563\n",
      "Epoch 80/100\n",
      "4s - loss: 0.0563\n",
      "Epoch 81/100\n",
      "4s - loss: 0.0564\n",
      "Epoch 82/100\n",
      "4s - loss: 0.0563\n",
      "Epoch 83/100\n",
      "4s - loss: 0.0563\n",
      "Epoch 84/100\n",
      "4s - loss: 0.0563\n",
      "Epoch 85/100\n",
      "4s - loss: 0.0563\n",
      "Epoch 86/100\n",
      "4s - loss: 0.0563\n",
      "Epoch 87/100\n",
      "4s - loss: 0.0563\n",
      "Epoch 88/100\n",
      "4s - loss: 0.0562\n",
      "Epoch 89/100\n",
      "4s - loss: 0.0562\n",
      "Epoch 90/100\n",
      "4s - loss: 0.0562\n",
      "Epoch 91/100\n",
      "4s - loss: 0.0562\n",
      "Epoch 92/100\n",
      "4s - loss: 0.0563\n",
      "Epoch 93/100\n",
      "4s - loss: 0.0562\n",
      "Epoch 94/100\n",
      "4s - loss: 0.0562\n",
      "Epoch 95/100\n",
      "4s - loss: 0.0562\n",
      "Epoch 96/100\n",
      "4s - loss: 0.0561\n",
      "Epoch 97/100\n",
      "4s - loss: 0.0562\n",
      "Epoch 98/100\n",
      "4s - loss: 0.0561\n",
      "Epoch 99/100\n",
      "4s - loss: 0.0562\n",
      "Epoch 100/100\n",
      "4s - loss: 0.0561\n"
     ]
    },
    {
     "data": {
      "text/plain": [
       "<keras.callbacks.History at 0x7f42c2f62690>"
      ]
     },
     "execution_count": 18,
     "metadata": {},
     "output_type": "execute_result"
    }
   ],
   "source": [
    "DN_model = build_base_model()\n",
    "DN_model.pop() # remove activation\n",
    "DN_model.pop() # remove last dense layer\n",
    "#DN_model.pop() # remove dropout\n",
    "#DN_model.add(Dense(64))\n",
    "#DN_model.add(Activation(\"softmax\"))\n",
    "DN_model.add(CrowdsGuan(N_CLASSES, N_ANNOT))\n",
    "\n",
    "# instantiate specialized masked loss to handle missing answers\n",
    "loss = MaskedMultiCrossEntropy().loss\n",
    "print DN_model.summary()\n",
    "print answers_bin_missings.shape\n",
    "\n",
    "# compile model with masked loss and train\n",
    "DN_model.compile(optimizer='adam', loss=loss)\n",
    "DN_model.fit(data_train_vgg16, answers_bin_missings, epochs=100, shuffle=True, batch_size=BATCH_SIZE, verbose=2)"
   ]
  },
  {
   "cell_type": "code",
   "execution_count": 19,
   "metadata": {},
   "outputs": [
    {
     "name": "stdout",
     "output_type": "stream",
     "text": [
      "(1188, 8, 59)\n",
      "(1188, 8)\n",
      "(1188,)\n",
      "0.809764309764\n"
     ]
    }
   ],
   "source": [
    "# make predictions\n",
    "preds_guan_dn = DN_model.predict(data_test_vgg16)\n",
    "print preds_guan_dn.shape\n",
    "\n",
    "# aggregate preditions of multiple annotators\n",
    "preds_guan_dn_agg = preds_guan_dn.sum(axis=2)\n",
    "print preds_guan_dn_agg.shape\n",
    "preds_guan_dn_agg_num = np.argmax(preds_guan_dn_agg, axis=1)\n",
    "print preds_guan_dn_agg_num.shape\n",
    "accuracy_test = 1.0*np.sum(preds_guan_dn_agg_num == labels_test) / len(labels_test)\n",
    "print accuracy_test"
   ]
  },
  {
   "cell_type": "code",
   "execution_count": 20,
   "metadata": {},
   "outputs": [
    {
     "name": "stdout",
     "output_type": "stream",
     "text": [
      "preds input data: (10000, 8, 59)\n",
      "original targets: (10000, 8, 59)\n",
      "target_dist: (10000, 8)\n"
     ]
    }
   ],
   "source": [
    "# input data for weigthing model: prediction of model on trainset\n",
    "preds_guan_dn_train = DN_model.predict(data_train_vgg16)\n",
    "print \"preds input data:\", preds_guan_dn_train.shape\n",
    "\n",
    "# prepare target distributions\n",
    "print \"original targets:\", answers_bin_missings.shape\n",
    "target_dist = np.zeros((preds_guan_dn_train.shape[0], N_CLASSES))\n",
    "for i in xrange(answers_bin_missings.shape[0]):\n",
    "    normalizer = 0.0\n",
    "    for r in xrange(N_ANNOT):\n",
    "        if answers_bin_missings[i,0,r] != -1:\n",
    "            target_dist[i,:] += answers_bin_missings[i,:,r]\n",
    "            normalizer += 1.0\n",
    "    target_dist[i,:] /= normalizer\n",
    "print \"target_dist:\", target_dist.shape"
   ]
  },
  {
   "cell_type": "code",
   "execution_count": 21,
   "metadata": {
    "scrolled": true
   },
   "outputs": [
    {
     "name": "stdout",
     "output_type": "stream",
     "text": [
      "x: Tensor(\"input_1:0\", shape=(?, 8, 59), dtype=float32)\n",
      "weights: Tensor(\"weighted_agg_1/Reshape_1:0\", shape=(59,), dtype=float32)\n",
      "Tensor(\"weighted_agg_1/stack:0\", shape=(59, ?, 8), dtype=float32)\n",
      "Tensor(\"weighted_agg_1/transpose:0\", shape=(?, 8, 59), dtype=float32)\n",
      "Tensor(\"weighted_agg_1/Mean:0\", shape=(?, 8), dtype=float32)\n",
      "Epoch 1/100\n",
      "2s - loss: 0.5873\n",
      "Epoch 2/100\n",
      "2s - loss: 0.5668\n",
      "Epoch 3/100\n",
      "2s - loss: 0.5502\n",
      "Epoch 4/100\n",
      "2s - loss: 0.5368\n",
      "Epoch 5/100\n",
      "2s - loss: 0.5257\n",
      "Epoch 6/100\n",
      "2s - loss: 0.5167\n",
      "Epoch 7/100\n",
      "2s - loss: 0.5092\n",
      "Epoch 8/100\n",
      "2s - loss: 0.5029\n",
      "Epoch 9/100\n",
      "2s - loss: 0.4977\n",
      "Epoch 10/100\n",
      "2s - loss: 0.4933\n",
      "Epoch 11/100\n",
      "2s - loss: 0.4896\n",
      "Epoch 12/100\n",
      "2s - loss: 0.4865\n",
      "Epoch 13/100\n",
      "2s - loss: 0.4839\n",
      "Epoch 14/100\n",
      "2s - loss: 0.4816\n",
      "Epoch 15/100\n",
      "2s - loss: 0.4797\n",
      "Epoch 16/100\n",
      "2s - loss: 0.4781\n",
      "Epoch 17/100\n",
      "2s - loss: 0.4767\n",
      "Epoch 18/100\n",
      "2s - loss: 0.4755\n",
      "Epoch 19/100\n",
      "2s - loss: 0.4744\n",
      "Epoch 20/100\n",
      "2s - loss: 0.4735\n",
      "Epoch 21/100\n",
      "2s - loss: 0.4727\n",
      "Epoch 22/100\n",
      "2s - loss: 0.4721\n",
      "Epoch 23/100\n",
      "2s - loss: 0.4715\n",
      "Epoch 24/100\n",
      "2s - loss: 0.4709\n",
      "Epoch 25/100\n",
      "2s - loss: 0.4705\n",
      "Epoch 26/100\n",
      "2s - loss: 0.4700\n",
      "Epoch 27/100\n",
      "2s - loss: 0.4696\n",
      "Epoch 28/100\n",
      "2s - loss: 0.4693\n",
      "Epoch 29/100\n",
      "2s - loss: 0.4690\n",
      "Epoch 30/100\n",
      "2s - loss: 0.4687\n",
      "Epoch 31/100\n",
      "2s - loss: 0.4684\n",
      "Epoch 32/100\n",
      "2s - loss: 0.4682\n",
      "Epoch 33/100\n",
      "2s - loss: 0.4680\n",
      "Epoch 34/100\n",
      "2s - loss: 0.4678\n",
      "Epoch 35/100\n",
      "2s - loss: 0.4676\n",
      "Epoch 36/100\n",
      "2s - loss: 0.4674\n",
      "Epoch 37/100\n",
      "2s - loss: 0.4672\n",
      "Epoch 38/100\n",
      "2s - loss: 0.4671\n",
      "Epoch 39/100\n",
      "2s - loss: 0.4669\n",
      "Epoch 40/100\n",
      "2s - loss: 0.4668\n",
      "Epoch 41/100\n",
      "2s - loss: 0.4667\n",
      "Epoch 42/100\n",
      "2s - loss: 0.4665\n",
      "Epoch 43/100\n",
      "2s - loss: 0.4664\n",
      "Epoch 44/100\n",
      "2s - loss: 0.4663\n",
      "Epoch 45/100\n",
      "2s - loss: 0.4662\n",
      "Epoch 46/100\n",
      "2s - loss: 0.4661\n",
      "Epoch 47/100\n",
      "2s - loss: 0.4660\n",
      "Epoch 48/100\n",
      "2s - loss: 0.4660\n",
      "Epoch 49/100\n",
      "2s - loss: 0.4659\n",
      "Epoch 50/100\n",
      "2s - loss: 0.4658\n",
      "Epoch 51/100\n",
      "2s - loss: 0.4658\n",
      "Epoch 52/100\n",
      "2s - loss: 0.4657\n",
      "Epoch 53/100\n",
      "2s - loss: 0.4656\n",
      "Epoch 54/100\n",
      "2s - loss: 0.4656\n",
      "Epoch 55/100\n",
      "2s - loss: 0.4655\n",
      "Epoch 56/100\n",
      "2s - loss: 0.4655\n",
      "Epoch 57/100\n",
      "2s - loss: 0.4654\n",
      "Epoch 58/100\n",
      "2s - loss: 0.4654\n",
      "Epoch 59/100\n",
      "2s - loss: 0.4653\n",
      "Epoch 60/100\n",
      "2s - loss: 0.4653\n",
      "Epoch 61/100\n",
      "2s - loss: 0.4652\n",
      "Epoch 62/100\n",
      "2s - loss: 0.4652\n",
      "Epoch 63/100\n",
      "2s - loss: 0.4652\n",
      "Epoch 64/100\n",
      "2s - loss: 0.4651\n",
      "Epoch 65/100\n",
      "2s - loss: 0.4651\n",
      "Epoch 66/100\n",
      "2s - loss: 0.4651\n",
      "Epoch 67/100\n",
      "2s - loss: 0.4650\n",
      "Epoch 68/100\n",
      "2s - loss: 0.4650\n",
      "Epoch 69/100\n",
      "2s - loss: 0.4650\n",
      "Epoch 70/100\n",
      "2s - loss: 0.4649\n",
      "Epoch 71/100\n",
      "2s - loss: 0.4649\n",
      "Epoch 72/100\n",
      "2s - loss: 0.4649\n",
      "Epoch 73/100\n",
      "2s - loss: 0.4649\n",
      "Epoch 74/100\n",
      "2s - loss: 0.4649\n",
      "Epoch 75/100\n",
      "2s - loss: 0.4648\n",
      "Epoch 76/100\n",
      "2s - loss: 0.4648\n",
      "Epoch 77/100\n",
      "2s - loss: 0.4648\n",
      "Epoch 78/100\n",
      "2s - loss: 0.4648\n",
      "Epoch 79/100\n",
      "2s - loss: 0.4647\n",
      "Epoch 80/100\n",
      "2s - loss: 0.4647\n",
      "Epoch 81/100\n",
      "2s - loss: 0.4647\n",
      "Epoch 82/100\n",
      "2s - loss: 0.4647\n",
      "Epoch 83/100\n",
      "2s - loss: 0.4647\n",
      "Epoch 84/100\n",
      "2s - loss: 0.4647\n",
      "Epoch 85/100\n",
      "2s - loss: 0.4647\n",
      "Epoch 86/100\n",
      "2s - loss: 0.4646\n",
      "Epoch 87/100\n",
      "2s - loss: 0.4646\n",
      "Epoch 88/100\n",
      "2s - loss: 0.4646\n",
      "Epoch 89/100\n",
      "2s - loss: 0.4646\n",
      "Epoch 90/100\n",
      "2s - loss: 0.4646\n",
      "Epoch 91/100\n",
      "2s - loss: 0.4646\n",
      "Epoch 92/100\n",
      "2s - loss: 0.4646\n",
      "Epoch 93/100\n",
      "2s - loss: 0.4646\n",
      "Epoch 94/100\n",
      "2s - loss: 0.4646\n",
      "Epoch 95/100\n",
      "2s - loss: 0.4645\n",
      "Epoch 96/100\n",
      "2s - loss: 0.4645\n",
      "Epoch 97/100\n",
      "2s - loss: 0.4645\n",
      "Epoch 98/100\n",
      "2s - loss: 0.4645\n",
      "Epoch 99/100\n",
      "2s - loss: 0.4645\n",
      "Epoch 100/100\n",
      "2s - loss: 0.4645\n"
     ]
    },
    {
     "data": {
      "text/plain": [
       "<keras.callbacks.History at 0x7f42c0a58c90>"
      ]
     },
     "execution_count": 21,
     "metadata": {},
     "output_type": "execute_result"
    }
   ],
   "source": [
    "# weighted aggregation layer\n",
    "class WeightedAgg(Layer):\n",
    "\n",
    "    def __init__(self, output_dim, num_annotators, **kwargs):\n",
    "        self.output_dim = output_dim\n",
    "        self.num_annotators = num_annotators\n",
    "        super(WeightedAgg, self).__init__(**kwargs)\n",
    "\n",
    "    def build(self, input_shape):\n",
    "        self.kernel = self.add_weight(shape=(self.num_annotators,),\n",
    "                                            initializer=\"ones\", \n",
    "                                            trainable=True)\n",
    "\n",
    "        super(WeightedAgg, self).build(input_shape)  # Be sure to call this somewhere!\n",
    "\n",
    "    def call(self, x):\n",
    "        print \"x:\", x\n",
    "        \n",
    "        weights = tf.nn.softmax(self.kernel)\n",
    "        print \"weights:\", weights\n",
    "        \n",
    "        out = []\n",
    "        for r in range(self.num_annotators):\n",
    "            out.append(x[:,:,r] * weights[r])\n",
    "        res = tf.stack(out)\n",
    "        print res\n",
    "        res = tf.transpose(res, [1,2,0])\n",
    "        print res\n",
    "        res = tf.reduce_mean(res, axis=2)\n",
    "        print res\n",
    "        \n",
    "        return res\n",
    "\n",
    "    def compute_output_shape(self, input_shape):\n",
    "        return (input_shape[0], self.output_dim)\n",
    "\n",
    "\n",
    "# weighting model\n",
    "model_preds = Input(shape=(N_CLASSES,N_ANNOT))\n",
    "output_layer = WeightedAgg(N_CLASSES,N_ANNOT)(model_preds)\n",
    "WDN_model = Model(inputs=model_preds, outputs=output_layer)\n",
    "\n",
    "WDN_model.compile(loss='categorical_crossentropy', optimizer='adam')\n",
    "WDN_model.fit(preds_guan_dn_train, target_dist, epochs=100, shuffle=True, batch_size=BATCH_SIZE, verbose=2)"
   ]
  },
  {
   "cell_type": "code",
   "execution_count": 22,
   "metadata": {},
   "outputs": [
    {
     "name": "stdout",
     "output_type": "stream",
     "text": [
      "final_preds: (10000, 8)\n",
      "accuracy_train: 0.8395\n"
     ]
    }
   ],
   "source": [
    "final_preds = WDN_model.predict(preds_guan_dn_train)\n",
    "print \"final_preds:\", final_preds.shape\n",
    "\n",
    "final_pred_num = np.argmax(final_preds, axis=1)\n",
    "accuracy_train = 1.0*np.sum(final_pred_num == labels_train) / len(labels_train)\n",
    "print \"accuracy_train:\", accuracy_train"
   ]
  },
  {
   "cell_type": "code",
   "execution_count": 23,
   "metadata": {},
   "outputs": [
    {
     "name": "stdout",
     "output_type": "stream",
     "text": [
      "preds input data: (1188, 8, 59)\n"
     ]
    }
   ],
   "source": [
    "# input data for weigthing model: prediction of model on trainset\n",
    "preds_guan_dn_test = DN_model.predict(data_test_vgg16)\n",
    "print \"preds input data:\", preds_guan_dn_test.shape"
   ]
  },
  {
   "cell_type": "code",
   "execution_count": 24,
   "metadata": {},
   "outputs": [
    {
     "name": "stdout",
     "output_type": "stream",
     "text": [
      "final_preds: (1188, 8)\n",
      "accuracy_test: 0.81734006734\n"
     ]
    }
   ],
   "source": [
    "final_preds = WDN_model.predict(preds_guan_dn_test)\n",
    "print \"final_preds:\", final_preds.shape\n",
    "\n",
    "final_pred_num = np.argmax(final_preds, axis=1)\n",
    "accuracy_test = 1.0*np.sum(final_pred_num == labels_test) / len(labels_test)\n",
    "print \"accuracy_test:\", accuracy_test"
   ]
  },
  {
   "cell_type": "code",
   "execution_count": 25,
   "metadata": {},
   "outputs": [
    {
     "data": {
      "text/plain": [
       "array([5, 7, 3, ..., 2, 4, 4])"
      ]
     },
     "execution_count": 25,
     "metadata": {},
     "output_type": "execute_result"
    }
   ],
   "source": [
    "final_pred_num"
   ]
  },
  {
   "cell_type": "markdown",
   "metadata": {},
   "source": [
    "# Train the model using proposed DL-MW approach and evaluate on testset\n",
    "\n",
    "We start by adding a new layer (CrowdsClassification) on top of our neural network. We then require a special loss (MaskedMultiCrossEntropy) to handle the missing labels from some of the annotators (encoded as \"-1\").\n",
    "\n",
    "Notice how the training is faster then the EM approach."
   ]
  },
  {
   "cell_type": "code",
   "execution_count": 26,
   "metadata": {
    "scrolled": true
   },
   "outputs": [
    {
     "name": "stdout",
     "output_type": "stream",
     "text": [
      "Epoch 1/50\n",
      "2s - loss: 0.0733\n",
      "Epoch 2/50\n",
      "1s - loss: 0.0649\n",
      "Epoch 3/50\n",
      "1s - loss: 0.0582\n",
      "Epoch 4/50\n",
      "1s - loss: 0.0535\n",
      "Epoch 5/50\n",
      "2s - loss: 0.0497\n",
      "Epoch 6/50\n",
      "1s - loss: 0.0464\n",
      "Epoch 7/50\n",
      "1s - loss: 0.0434\n",
      "Epoch 8/50\n",
      "1s - loss: 0.0405\n",
      "Epoch 9/50\n",
      "1s - loss: 0.0384\n",
      "Epoch 10/50\n",
      "1s - loss: 0.0365\n",
      "Epoch 11/50\n",
      "1s - loss: 0.0342\n",
      "Epoch 12/50\n",
      "1s - loss: 0.0327\n",
      "Epoch 13/50\n",
      "1s - loss: 0.0315\n",
      "Epoch 14/50\n",
      "1s - loss: 0.0301\n",
      "Epoch 15/50\n",
      "1s - loss: 0.0291\n",
      "Epoch 16/50\n",
      "1s - loss: 0.0277\n",
      "Epoch 17/50\n",
      "1s - loss: 0.0267\n",
      "Epoch 18/50\n",
      "1s - loss: 0.0260\n",
      "Epoch 19/50\n",
      "1s - loss: 0.0255\n",
      "Epoch 20/50\n",
      "1s - loss: 0.0246\n",
      "Epoch 21/50\n",
      "1s - loss: 0.0240\n",
      "Epoch 22/50\n",
      "1s - loss: 0.0234\n",
      "Epoch 23/50\n",
      "1s - loss: 0.0229\n",
      "Epoch 24/50\n",
      "1s - loss: 0.0224\n",
      "Epoch 25/50\n",
      "1s - loss: 0.0216\n",
      "Epoch 26/50\n",
      "1s - loss: 0.0212\n",
      "Epoch 27/50\n",
      "1s - loss: 0.0207\n",
      "Epoch 28/50\n",
      "2s - loss: 0.0205\n",
      "Epoch 29/50\n",
      "1s - loss: 0.0199\n",
      "Epoch 30/50\n",
      "1s - loss: 0.0194\n",
      "Epoch 31/50\n",
      "1s - loss: 0.0192\n",
      "Epoch 32/50\n",
      "1s - loss: 0.0190\n",
      "Epoch 33/50\n",
      "1s - loss: 0.0187\n",
      "Epoch 34/50\n",
      "1s - loss: 0.0180\n",
      "Epoch 35/50\n",
      "2s - loss: 0.0179\n",
      "Epoch 36/50\n",
      "1s - loss: 0.0176\n",
      "Epoch 37/50\n",
      "1s - loss: 0.0171\n",
      "Epoch 38/50\n",
      "1s - loss: 0.0170\n",
      "Epoch 39/50\n",
      "1s - loss: 0.0167\n",
      "Epoch 40/50\n",
      "1s - loss: 0.0164\n",
      "Epoch 41/50\n",
      "1s - loss: 0.0164\n",
      "Epoch 42/50\n",
      "1s - loss: 0.0163\n",
      "Epoch 43/50\n",
      "1s - loss: 0.0157\n",
      "Epoch 44/50\n",
      "1s - loss: 0.0161\n",
      "Epoch 45/50\n",
      "1s - loss: 0.0162\n",
      "Epoch 46/50\n",
      "1s - loss: 0.0158\n",
      "Epoch 47/50\n",
      "1s - loss: 0.0154\n",
      "Epoch 48/50\n",
      "2s - loss: 0.0152\n",
      "Epoch 49/50\n",
      "1s - loss: 0.0149\n",
      "Epoch 50/50\n",
      "1s - loss: 0.0152\n"
     ]
    },
    {
     "data": {
      "text/plain": [
       "<keras.callbacks.History at 0x7f42c0530f50>"
      ]
     },
     "execution_count": 26,
     "metadata": {},
     "output_type": "execute_result"
    }
   ],
   "source": [
    "model = build_base_model()\n",
    "\n",
    "# add crowds layer on top of the base model\n",
    "model.add(CrowdsClassification(N_CLASSES, N_ANNOT, conn_type=\"MW\"))\n",
    "\n",
    "# instantiate specialized masked loss to handle missing answers\n",
    "loss = MaskedMultiCrossEntropy().loss\n",
    "\n",
    "# compile model with masked loss and train\n",
    "model.compile(optimizer='adam', loss=loss)\n",
    "model.fit(data_train_vgg16, answers_bin_missings, epochs=N_EPOCHS, shuffle=True, batch_size=BATCH_SIZE, verbose=2)"
   ]
  },
  {
   "cell_type": "markdown",
   "metadata": {},
   "source": [
    "Before evaluating our model, we need to remove the crowds layer used during training in order to expose the aggregation (bottleneck) layer"
   ]
  },
  {
   "cell_type": "code",
   "execution_count": 27,
   "metadata": {},
   "outputs": [
    {
     "name": "stdout",
     "output_type": "stream",
     "text": [
      "Accuracy: Test: 0.822\n"
     ]
    }
   ],
   "source": [
    "# save weights from crowds layer for later\n",
    "weights = model.layers[5].get_weights()\n",
    "\n",
    "# remove crowds layer before making predictions\n",
    "model.pop() \n",
    "model.compile(optimizer='adam', loss='categorical_crossentropy', metrics=['accuracy'])\n",
    "\n",
    "accuracy_test = eval_model(model, data_test_vgg16, labels_test)\n",
    "print \"Accuracy: Test: %.3f\" % (accuracy_test,) "
   ]
  },
  {
   "cell_type": "markdown",
   "metadata": {},
   "source": [
    "# Compare the weights learned by the crowds layer for each annotator with their true confution matrices\n",
    "\n",
    "First, compute true confusion matrices:"
   ]
  },
  {
   "cell_type": "code",
   "execution_count": 28,
   "metadata": {
    "collapsed": true
   },
   "outputs": [],
   "source": [
    "conf_mats = np.zeros((N_CLASSES,N_CLASSES,N_ANNOT)) + 0.00000001\n",
    "num_answers = np.zeros((N_CLASSES,N_ANNOT)) + (0.00000001 * N_CLASSES)\n",
    "for i in xrange(len(answers)):\n",
    "    for r in xrange(N_ANNOT):\n",
    "        if answers[i][r] != -1:\n",
    "            num_answers[labels_train[i],r] += 1\n",
    "            conf_mats[labels_train[i],answers[i][r],r] += 1\n",
    "for r in xrange(N_ANNOT):\n",
    "    for c in xrange(N_CLASSES):\n",
    "        for c2 in xrange(N_CLASSES):\n",
    "            conf_mats[c,c2,r] = conf_mats[c,c2,r] / num_answers[c,r]"
   ]
  },
  {
   "cell_type": "markdown",
   "metadata": {},
   "source": [
    "Auxiliary function that make a visual comparison:"
   ]
  },
  {
   "cell_type": "code",
   "execution_count": 29,
   "metadata": {
    "collapsed": true
   },
   "outputs": [],
   "source": [
    "def compare_conf_mats(true_conf_mat, weights):\n",
    "    # normalize weights matrix between 0 and 1\n",
    "    w_mat = (np.transpose(weights) + np.abs(weights.min()))\n",
    "    w_mat = w_mat / w_mat.max()\n",
    "    \n",
    "    sp1 = plt.subplot(1,2,1)\n",
    "    plt.imshow(true_conf_mat, interpolation='nearest', cmap=cm.YlOrRd)\n",
    "    plt.title(\"True\")\n",
    "\n",
    "    sp = plt.subplot(1,2,2)\n",
    "    plt.imshow(w_mat, interpolation='nearest', cmap=cm.YlOrRd)\n",
    "    plt.title(\"Estimated\")\n",
    "\n",
    "    plt.show()"
   ]
  },
  {
   "cell_type": "markdown",
   "metadata": {},
   "source": [
    "Make comparison for various annotators:"
   ]
  },
  {
   "cell_type": "code",
   "execution_count": 30,
   "metadata": {},
   "outputs": [
    {
     "data": {
      "image/png": "[encoded data removed]",
      "text/plain": [
       "<matplotlib.figure.Figure at 0x7f42c26b0310>"
      ]
     },
     "metadata": {},
     "output_type": "display_data"
    }
   ],
   "source": [
    "compare_conf_mats(conf_mats[:,:,1], weights[0][:,:,1])"
   ]
  },
  {
   "cell_type": "code",
   "execution_count": 31,
   "metadata": {},
   "outputs": [
    {
     "data": {
      "image/png": "[encoded data removed]",
      "text/plain": [
       "<matplotlib.figure.Figure at 0x7f42c023b450>"
      ]
     },
     "metadata": {},
     "output_type": "display_data"
    }
   ],
   "source": [
    "compare_conf_mats(conf_mats[:,:,2], weights[0][:,:,2])"
   ]
  },
  {
   "cell_type": "code",
   "execution_count": 32,
   "metadata": {},
   "outputs": [
    {
     "data": {
      "image/png": "[encoded data removed]",
      "text/plain": [
       "<matplotlib.figure.Figure at 0x7f42c00641d0>"
      ]
     },
     "metadata": {},
     "output_type": "display_data"
    }
   ],
   "source": [
    "compare_conf_mats(conf_mats[:,:,9], weights[0][:,:,9])"
   ]
  },
  {
   "cell_type": "code",
   "execution_count": 33,
   "metadata": {},
   "outputs": [
    {
     "data": {
      "image/png": "[encoded data removed]",
      "text/plain": [
       "<matplotlib.figure.Figure at 0x7f42b86e0390>"
      ]
     },
     "metadata": {},
     "output_type": "display_data"
    }
   ],
   "source": [
    "compare_conf_mats(conf_mats[:,:,20], weights[0][:,:,20])"
   ]
  },
  {
   "cell_type": "code",
   "execution_count": 34,
   "metadata": {},
   "outputs": [
    {
     "data": {
      "image/png": "[encoded data removed]",
      "text/plain": [
       "<matplotlib.figure.Figure at 0x7f42b86c7fd0>"
      ]
     },
     "metadata": {},
     "output_type": "display_data"
    }
   ],
   "source": [
    "compare_conf_mats(conf_mats[:,:,23], weights[0][:,:,23])"
   ]
  },
  {
   "cell_type": "code",
   "execution_count": 35,
   "metadata": {},
   "outputs": [
    {
     "data": {
      "image/png": "[encoded data removed]",
      "text/plain": [
       "<matplotlib.figure.Figure at 0x7f42c0278510>"
      ]
     },
     "metadata": {},
     "output_type": "display_data"
    }
   ],
   "source": [
    "compare_conf_mats(conf_mats[:,:,30], weights[0][:,:,30])"
   ]
  },
  {
   "cell_type": "code",
   "execution_count": 36,
   "metadata": {},
   "outputs": [
    {
     "data": {
      "image/png": "[encoded data removed]",
      "text/plain": [
       "<matplotlib.figure.Figure at 0x7f42c037a690>"
      ]
     },
     "metadata": {},
     "output_type": "display_data"
    }
   ],
   "source": [
    "compare_conf_mats(conf_mats[:,:,36], weights[0][:,:,36])"
   ]
  },
  {
   "cell_type": "code",
   "execution_count": 37,
   "metadata": {},
   "outputs": [
    {
     "data": {
      "image/png": "[encoded data removed]",
      "text/plain": [
       "<matplotlib.figure.Figure at 0x7f42b8575590>"
      ]
     },
     "metadata": {},
     "output_type": "display_data"
    }
   ],
   "source": [
    "compare_conf_mats(conf_mats[:,:,39], weights[0][:,:,39])"
   ]
  },
  {
   "cell_type": "code",
   "execution_count": 38,
   "metadata": {},
   "outputs": [
    {
     "data": {
      "image/png": "[encoded data removed]",
      "text/plain": [
       "<matplotlib.figure.Figure at 0x7f42b83895d0>"
      ]
     },
     "metadata": {},
     "output_type": "display_data"
    }
   ],
   "source": [
    "compare_conf_mats(conf_mats[:,:,45], weights[0][:,:,45])"
   ]
  },
  {
   "cell_type": "code",
   "execution_count": 39,
   "metadata": {},
   "outputs": [
    {
     "data": {
      "image/png": "[encoded data removed]",
      "text/plain": [
       "<matplotlib.figure.Figure at 0x7f42b8223390>"
      ]
     },
     "metadata": {},
     "output_type": "display_data"
    }
   ],
   "source": [
    "compare_conf_mats(conf_mats[:,:,56], weights[0][:,:,56])"
   ]
  },
  {
   "cell_type": "code",
   "execution_count": 40,
   "metadata": {},
   "outputs": [
    {
     "data": {
      "image/png": "[encoded data removed]",
      "text/plain": [
       "<matplotlib.figure.Figure at 0x7f42b80b2510>"
      ]
     },
     "metadata": {},
     "output_type": "display_data"
    }
   ],
   "source": [
    "compare_conf_mats(conf_mats[:,:,58], weights[0][:,:,58])"
   ]
  },
  {
   "cell_type": "code",
   "execution_count": null,
   "metadata": {
    "collapsed": true
   },
   "outputs": [],
   "source": []
  }
 ],
 "metadata": {
  "kernelspec": {
   "display_name": "Python 2",
   "language": "python",
   "name": "python2"
  },
  "language_info": {
   "codemirror_mode": {
    "name": "ipython",
    "version": 2
   },
   "file_extension": ".py",
   "mimetype": "text/x-python",
   "name": "python",
   "nbconvert_exporter": "python",
   "pygments_lexer": "ipython2",
   "version": "2.7.13"
  }
 },
 "nbformat": 4,
 "nbformat_minor": 2
}
